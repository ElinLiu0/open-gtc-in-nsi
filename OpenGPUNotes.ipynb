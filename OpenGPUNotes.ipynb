{
 "cells": [
  {
   "cell_type": "markdown",
   "metadata": {},
   "source": [
    "### 欢迎下载本次GTC in NSI的演示脚本\n",
    "### 如欲开展接下来的学习，请先准备：\n",
    "    - WSL运行环境（Debian，ubuntu均可）\n",
    "    - CUDA驱动程序\n",
    "    - RAPIDS Conda Env\n",
    "像这样："
   ]
  },
  {
   "cell_type": "code",
   "execution_count": 90,
   "metadata": {},
   "outputs": [
    {
     "name": "stdout",
     "output_type": "stream",
     "text": [
      "Fri Mar 11 13:17:15 2022       \n",
      "+-----------------------------------------------------------------------------+\n",
      "| NVIDIA-SMI 510.52       Driver Version: 511.79       CUDA Version: 11.6     |\n",
      "|-------------------------------+----------------------+----------------------+\n",
      "| GPU  Name        Persistence-M| Bus-Id        Disp.A | Volatile Uncorr. ECC |\n",
      "| Fan  Temp  Perf  Pwr:Usage/Cap|         Memory-Usage | GPU-Util  Compute M. |\n",
      "|                               |                      |               MIG M. |\n",
      "|===============================+======================+======================|\n",
      "|   0  NVIDIA GeForce ...  On   | 00000000:01:00.0  On |                  N/A |\n",
      "| N/A   56C    P0    28W /  N/A |   1753MiB /  6144MiB |      5%      Default |\n",
      "|                               |                      |                  N/A |\n",
      "+-------------------------------+----------------------+----------------------+\n",
      "                                                                               \n",
      "+-----------------------------------------------------------------------------+\n",
      "| Processes:                                                                  |\n",
      "|  GPU   GI   CI        PID   Type   Process name                  GPU Memory |\n",
      "|        ID   ID                                                   Usage      |\n",
      "|=============================================================================|\n",
      "|    0   N/A  N/A      1088      C   /python3.8                      N/A      |\n",
      "+-----------------------------------------------------------------------------+\n"
     ]
    }
   ],
   "source": [
    "!nvidia-smi"
   ]
  },
  {
   "cell_type": "markdown",
   "metadata": {},
   "source": [
    "导入如下库"
   ]
  },
  {
   "cell_type": "code",
   "execution_count": 1,
   "metadata": {},
   "outputs": [],
   "source": [
    "import cupy as cp\n",
    "import numpy as np\n",
    "import pandas as pd\n",
    "import cudf as cf\n",
    "from timeit import timeit\n",
    "import matplotlib as mpl\n",
    "import matplotlib.pyplot as plt\n",
    "import random\n",
    "import sklearn.linear_model as sl\n",
    "import cuml.linear_model as cl"
   ]
  },
  {
   "cell_type": "code",
   "execution_count": 12,
   "metadata": {},
   "outputs": [],
   "source": [
    "# 定义1维矩阵生成测试方法\n",
    "def cpuGenArray():\n",
    "    [0 for i in range(1000000)]\n",
    "def gpuGenArray():\n",
    "    a = cp.zeros(shape=(1000000,1),dtype=cp.float32)"
   ]
  },
  {
   "cell_type": "code",
   "execution_count": 28,
   "metadata": {},
   "outputs": [],
   "source": [
    "# 测试速度，其中number参数用于控制测试轮数\n",
    "cpuResult = round(timeit(cpuGenArray,number=100),2)\n",
    "gpuResult = round(timeit(gpuGenArray,number=100),2)"
   ]
  },
  {
   "cell_type": "code",
   "execution_count": 29,
   "metadata": {},
   "outputs": [
    {
     "data": {
      "text/plain": [
       "(2.1, 0.07)"
      ]
     },
     "execution_count": 29,
     "metadata": {},
     "output_type": "execute_result"
    }
   ],
   "source": [
    "cpuResult,gpuResult"
   ]
  },
  {
   "cell_type": "code",
   "execution_count": 33,
   "metadata": {},
   "outputs": [
    {
     "data": {
      "image/png": "[encoded data removed]",
      "text/plain": [
       "<Figure size 720x576 with 1 Axes>"
      ]
     },
     "metadata": {
      "needs_background": "light"
     },
     "output_type": "display_data"
    }
   ],
   "source": [
    "plt.figure(\n",
    "   figsize=(10,8)\n",
    ")\n",
    "plt.title(\n",
    "    \"Traditional 1D Array create with 1 million elements\"\n",
    ")\n",
    "plt.barh(\n",
    "    width = [cpuResult,gpuResult],\n",
    "    y = ['CPU','GPU'],\n",
    "    color = \"#76b900\",  \n",
    ")\n",
    "plt.text(\n",
    "    x = 0.10,\n",
    "    y = 0.75,\n",
    "    s = f\"{round(cpuResult / gpuResult)} X Performance lead\",\n",
    "    fontsize = 15\n",
    ")\n",
    "plt.savefig(\"1DArray.jpg\",dpi=500)"
   ]
  },
  {
   "cell_type": "code",
   "execution_count": 18,
   "metadata": {},
   "outputs": [],
   "source": [
    "# 可以发现，在传统的1维数组创建时，CUDA GPU相比CPU快了整整11倍\n",
    "# 那么我们来试试更有难度的，矩阵查空：即在充满0/1的二值化矩阵中快速找的有多少个0的存在\n",
    "# 定义方法\n",
    "def cpuCheck():\n",
    "    arr = [random.randint(0,2) for i in range(10000)]\n",
    "    zeroCount = 0\n",
    "    for i in range(len(arr)):\n",
    "        if arr[i] == 0:\n",
    "            zeroCount += 1\n",
    "    return zeroCount\n",
    "def gpuCheck():\n",
    "    arr = cp.random.randint(low=0,high=2,size=10000)\n",
    "    zeroCount = 0\n",
    "    for i in range(len(arr)):\n",
    "        if arr[i] == 0:\n",
    "            zeroCount += 1\n",
    "    return zeroCount"
   ]
  },
  {
   "cell_type": "code",
   "execution_count": 99,
   "metadata": {},
   "outputs": [],
   "source": [
    "#测试\n",
    "cpuResult = round(timeit(cpuCheck,number=10),2)\n",
    "gpuResult = round(timeit(gpuCheck,number=10),2)"
   ]
  },
  {
   "cell_type": "code",
   "execution_count": 100,
   "metadata": {},
   "outputs": [
    {
     "data": {
      "text/plain": [
       "(0.06, 17.66)"
      ]
     },
     "execution_count": 100,
     "metadata": {},
     "output_type": "execute_result"
    }
   ],
   "source": [
    "cpuResult,gpuResult"
   ]
  },
  {
   "cell_type": "code",
   "execution_count": 101,
   "metadata": {},
   "outputs": [
    {
     "data": {
      "image/png": "[encoded data removed]",
      "text/plain": [
       "<Figure size 720x576 with 1 Axes>"
      ]
     },
     "metadata": {
      "needs_background": "light"
     },
     "output_type": "display_data"
    }
   ],
   "source": [
    "plt.figure(\n",
    "   figsize=(10,8)\n",
    ")\n",
    "plt.title(\n",
    "    \"Traditional 1D Array Check Zero\"\n",
    ")\n",
    "plt.barh(\n",
    "    width = [cpuResult,gpuResult],\n",
    "    y = ['CPU','GPU'],\n",
    "    color = \"#76b900\",  \n",
    ")\n",
    "plt.text(\n",
    "    x = 0.15,\n",
    "    y = 0.25,\n",
    "    s = f\"{round(gpuResult / cpuResult)} X Performance lost\",\n",
    "    fontsize = 15\n",
    ")\n",
    "plt.savefig(\"1DArrayCheck.jpg\",dpi=500)"
   ]
  },
  {
   "cell_type": "code",
   "execution_count": 88,
   "metadata": {},
   "outputs": [],
   "source": [
    "# 什么？cpu比gpu开了整整100倍？\n",
    "# 这是因为CPU的内存寄存器远比CUDA GPU的来的要大\n",
    "# 而我们上述使用for来对每一个元素进行筛选的方法就会导致GPU的寄存器不断被刷写\n",
    "# SRAM的内存空间被不断地迭代，进而在性能上落后了CPU\n",
    "# 且SRAM中只存储了一个单位的值，本质上也是一种资源浪费"
   ]
  },
  {
   "cell_type": "markdown",
   "metadata": {},
   "source": [
    "因此我们需要借助算法的力量来使得CUDA充分发挥其性能表现"
   ]
  },
  {
   "cell_type": "code",
   "execution_count": 19,
   "metadata": {},
   "outputs": [],
   "source": [
    "def cpuCheckNew():\n",
    "    a = np.random.randint(low=0,high=2,dtype=np.int32,size=10000)\n",
    "    return np.count_nonzero(a)\n",
    "def gpuCheckNew():\n",
    "    a = cp.random.randint(low=0,high=2,dtype=cp.int32,size=10000)\n",
    "    return cp.count_nonzero(a)"
   ]
  },
  {
   "cell_type": "code",
   "execution_count": 20,
   "metadata": {},
   "outputs": [],
   "source": [
    "#测试\n",
    "cpuResult = round(timeit(cpuCheck,number=30),5)\n",
    "gpuResult = round(timeit(gpuCheckNew,number=30),5)"
   ]
  },
  {
   "cell_type": "code",
   "execution_count": 21,
   "metadata": {},
   "outputs": [
    {
     "data": {
      "text/plain": [
       "(0.1991, 0.24263)"
      ]
     },
     "execution_count": 21,
     "metadata": {},
     "output_type": "execute_result"
    }
   ],
   "source": [
    "cpuResult,gpuResult"
   ]
  },
  {
   "cell_type": "code",
   "execution_count": 25,
   "metadata": {},
   "outputs": [
    {
     "data": {
      "image/png": "[encoded data removed]",
      "text/plain": [
       "<Figure size 720x576 with 1 Axes>"
      ]
     },
     "metadata": {
      "needs_background": "light"
     },
     "output_type": "display_data"
    }
   ],
   "source": [
    "plt.figure(\n",
    "    figsize=(10,8)\n",
    ")\n",
    "plt.title(\n",
    "    \"Alg 1D Array Check Zero\"\n",
    ")\n",
    "plt.barh(\n",
    "    width = [cpuResult,gpuResult],\n",
    "    y = ['CPU','GPU'],\n",
    "    color = \"#76b900\",  \n",
    ")\n",
    "plt.text(\n",
    "    x =0.1,\n",
    "    y = 0.5,\n",
    "    s = f\"{round((gpuResult - cpuResult) / cpuResult,2)} X Performance lost\",\n",
    "    fontsize = 15\n",
    ")\n",
    "try:\n",
    "    plt.savefig(\"1DArrayCheckAlg.jpg\",dpi=500)\n",
    "except ValueError:\n",
    "    print(\"警告！图像像素过大！\")"
   ]
  },
  {
   "cell_type": "code",
   "execution_count": 219,
   "metadata": {},
   "outputs": [],
   "source": [
    "# 这里像素太大了，突破了Matplotlib的上限了"
   ]
  },
  {
   "cell_type": "code",
   "execution_count": 122,
   "metadata": {},
   "outputs": [],
   "source": [
    "# 可以看到，虽然并没有完全超越CPU，但是在时间上GPU已经几乎赶上了CPU\n",
    "# 虽然矩阵是数据科学最本质的东西，但我们还是要来写更狠的\n",
    "# 用GPU读取数据集！"
   ]
  },
  {
   "cell_type": "code",
   "execution_count": 123,
   "metadata": {},
   "outputs": [],
   "source": [
    "# 方法定义\n",
    "def cpuRead():\n",
    "    df = pd.read_csv(\"amazon.csv\")\n",
    "    return df\n",
    "def gpuRead():\n",
    "    df = cf.read_csv(\"amazon.csv\")\n",
    "    return df"
   ]
  },
  {
   "cell_type": "code",
   "execution_count": 225,
   "metadata": {},
   "outputs": [],
   "source": [
    "#测试\n",
    "cpuResult = round(timeit(cpuRead,number=30),2)\n",
    "gpuResult = round(timeit(gpuRead,number=30),2)"
   ]
  },
  {
   "cell_type": "code",
   "execution_count": 226,
   "metadata": {},
   "outputs": [
    {
     "data": {
      "text/plain": [
       "(10.83, 3.37)"
      ]
     },
     "execution_count": 226,
     "metadata": {},
     "output_type": "execute_result"
    }
   ],
   "source": [
    "cpuResult,gpuResult"
   ]
  },
  {
   "cell_type": "code",
   "execution_count": 227,
   "metadata": {},
   "outputs": [
    {
     "data": {
      "image/png": "[encoded data removed]",
      "text/plain": [
       "<Figure size 720x576 with 1 Axes>"
      ]
     },
     "metadata": {
      "needs_background": "light"
     },
     "output_type": "display_data"
    }
   ],
   "source": [
    "plt.figure(\n",
    "   figsize=(10,8)\n",
    ")\n",
    "plt.title(\n",
    "    f\"Dataset Read with {gpuRead().shape[0]} x {gpuRead().shape[1]}\"\n",
    ")\n",
    "plt.barh(\n",
    "    width = [cpuResult,gpuResult],\n",
    "    y = ['CPU','GPU'],\n",
    "    color = \"#76b900\",  \n",
    ")\n",
    "plt.text(\n",
    "    x = 5,\n",
    "    y = 0.5,\n",
    "    s = f\"{round(cpuResult / gpuResult)} X Performance lead\",\n",
    "    fontsize = 15\n",
    ")\n",
    "plt.savefig(\"DatasetRead.jpg\",dpi=500)"
   ]
  },
  {
   "cell_type": "code",
   "execution_count": 131,
   "metadata": {},
   "outputs": [],
   "source": [
    "# 可以看到，在读取10000条，17列的亚马逊消费预测数据时\n",
    "# CUDA GPU相较于CPU快了三倍\n",
    "# 那我们找些有意义的属性来试试预测吧"
   ]
  },
  {
   "cell_type": "code",
   "execution_count": 197,
   "metadata": {},
   "outputs": [
    {
     "data": {
      "text/plain": [
       "Index(['uniq_id', 'product_name', 'manufacturer', 'price',\n",
       "       'number_available_in_stock', 'number_of_reviews',\n",
       "       'number_of_answered_questions', 'average_review_rating',\n",
       "       'amazon_category_and_sub_category',\n",
       "       'customers_who_bought_this_item_also_bought', 'description',\n",
       "       'product_information', 'product_description',\n",
       "       'items_customers_buy_after_viewing_this_item',\n",
       "       'customer_questions_and_answers', 'customer_reviews', 'sellers'],\n",
       "      dtype='object')"
      ]
     },
     "execution_count": 197,
     "metadata": {},
     "output_type": "execute_result"
    }
   ],
   "source": [
    "df = cpuRead()\n",
    "df.columns"
   ]
  },
  {
   "cell_type": "code",
   "execution_count": 204,
   "metadata": {},
   "outputs": [],
   "source": [
    "df['number_of_reviews'] = [float((str(i).replace(\",\",\"\"))) for i in df['number_of_reviews']]\n",
    "df['number_of_reviews'].fillna(0,inplace=True)\n",
    "df['number_of_answered_questions'].fillna(0,inplace=True)"
   ]
  },
  {
   "cell_type": "code",
   "execution_count": 220,
   "metadata": {},
   "outputs": [],
   "source": [
    "def cpuTrain():\n",
    "    modle = sl.ElasticNet()\n",
    "    modle.fit(np.array(df[['number_of_reviews']]),np.array(df[['number_of_answered_questions']]))\n",
    "def gpuTrain():\n",
    "    modle = cl.ElasticNet()\n",
    "    modle.fit(cp.array(df[['number_of_reviews']].astype(cp.float32)),cp.array(df[['number_of_answered_questions']].astype(cp.float32)))"
   ]
  },
  {
   "cell_type": "code",
   "execution_count": 229,
   "metadata": {},
   "outputs": [],
   "source": [
    "#测试\n",
    "cpuResult = round(timeit(cpuTrain,number=50),2)\n",
    "gpuResult = round(timeit(gpuTrain,number=50),2)"
   ]
  },
  {
   "cell_type": "code",
   "execution_count": 230,
   "metadata": {},
   "outputs": [
    {
     "data": {
      "text/plain": [
       "(0.64, 0.29)"
      ]
     },
     "execution_count": 230,
     "metadata": {},
     "output_type": "execute_result"
    }
   ],
   "source": [
    "cpuResult,gpuResult"
   ]
  },
  {
   "cell_type": "code",
   "execution_count": 231,
   "metadata": {},
   "outputs": [
    {
     "data": {
      "image/png": "[encoded data removed]",
      "text/plain": [
       "<Figure size 720x576 with 1 Axes>"
      ]
     },
     "metadata": {
      "needs_background": "light"
     },
     "output_type": "display_data"
    }
   ],
   "source": [
    "# 可以看到在弹性网络模型的训练中，GPU也是比CPU更快一些的\n",
    "plt.figure(\n",
    "   figsize=(10,8)\n",
    ")\n",
    "plt.title(\n",
    "    f\"Modle Traning with Elastic Network\"\n",
    ")\n",
    "plt.barh(\n",
    "    width = [cpuResult,gpuResult],\n",
    "    y = ['CPU','GPU'],\n",
    "    color = \"#76b900\",  \n",
    ")\n",
    "plt.text(\n",
    "    x = 0.15,\n",
    "    y = 0.5,\n",
    "    s = f\"{round(cpuResult / gpuResult)} X Performance lead\",\n",
    "    fontsize = 15\n",
    ")\n",
    "plt.savefig(\"ModleTrain.jpg\",dpi=500)"
   ]
  }
 ],
 "metadata": {
  "interpreter": {
   "hash": "338289eda31e66d803220c731b647a2f9c3e78639e7f4b7f05479a6c5d95a4d7"
  },
  "kernelspec": {
   "display_name": "Python 3.8.12 ('rapids-22.02')",
   "language": "python",
   "name": "python3"
  },
  "language_info": {
   "codemirror_mode": {
    "name": "ipython",
    "version": 3
   },
   "file_extension": ".py",
   "mimetype": "text/x-python",
   "name": "python",
   "nbconvert_exporter": "python",
   "pygments_lexer": "ipython3",
   "version": "3.8.12"
  },
  "orig_nbformat": 4
 },
 "nbformat": 4,
 "nbformat_minor": 2
}
